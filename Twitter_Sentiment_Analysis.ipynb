{
 "cells": [
  {
   "cell_type": "code",
   "execution_count": 161,
   "id": "c6a023d6",
   "metadata": {},
   "outputs": [],
   "source": [
    "import pandas as pd\n",
    "import matplotlib.pyplot as plt\n",
    "import seaborn as sns"
   ]
  },
  {
   "cell_type": "code",
   "execution_count": 162,
   "id": "035af713",
   "metadata": {},
   "outputs": [],
   "source": [
    "#Reading the csv \n",
    "df = pd.read_csv('Twitter-sentiment-self-drive-DFE.csv',encoding = 'ISO-8859-1')"
   ]
  },
  {
   "cell_type": "code",
   "execution_count": 163,
   "id": "2c3e7cea",
   "metadata": {},
   "outputs": [
    {
     "data": {
      "text/html": [
       "<div>\n",
       "<style scoped>\n",
       "    .dataframe tbody tr th:only-of-type {\n",
       "        vertical-align: middle;\n",
       "    }\n",
       "\n",
       "    .dataframe tbody tr th {\n",
       "        vertical-align: top;\n",
       "    }\n",
       "\n",
       "    .dataframe thead th {\n",
       "        text-align: right;\n",
       "    }\n",
       "</style>\n",
       "<table border=\"1\" class=\"dataframe\">\n",
       "  <thead>\n",
       "    <tr style=\"text-align: right;\">\n",
       "      <th></th>\n",
       "      <th>_unit_id</th>\n",
       "      <th>_golden</th>\n",
       "      <th>_unit_state</th>\n",
       "      <th>_trusted_judgments</th>\n",
       "      <th>_last_judgment_at</th>\n",
       "      <th>sentiment</th>\n",
       "      <th>sentiment:confidence</th>\n",
       "      <th>our_id</th>\n",
       "      <th>sentiment_gold</th>\n",
       "      <th>sentiment_gold_reason</th>\n",
       "      <th>text</th>\n",
       "    </tr>\n",
       "  </thead>\n",
       "  <tbody>\n",
       "    <tr>\n",
       "      <th>0</th>\n",
       "      <td>724227031</td>\n",
       "      <td>True</td>\n",
       "      <td>golden</td>\n",
       "      <td>236</td>\n",
       "      <td>NaN</td>\n",
       "      <td>5</td>\n",
       "      <td>0.7579</td>\n",
       "      <td>10001</td>\n",
       "      <td>5\\n4</td>\n",
       "      <td>Author is excited about the development of the...</td>\n",
       "      <td>Two places I'd invest all my money if I could:...</td>\n",
       "    </tr>\n",
       "    <tr>\n",
       "      <th>1</th>\n",
       "      <td>724227032</td>\n",
       "      <td>True</td>\n",
       "      <td>golden</td>\n",
       "      <td>231</td>\n",
       "      <td>NaN</td>\n",
       "      <td>5</td>\n",
       "      <td>0.8775</td>\n",
       "      <td>10002</td>\n",
       "      <td>5\\n4</td>\n",
       "      <td>Author is excited that driverless cars will be...</td>\n",
       "      <td>Awesome! Google driverless cars will help the ...</td>\n",
       "    </tr>\n",
       "    <tr>\n",
       "      <th>2</th>\n",
       "      <td>724227033</td>\n",
       "      <td>True</td>\n",
       "      <td>golden</td>\n",
       "      <td>233</td>\n",
       "      <td>NaN</td>\n",
       "      <td>2</td>\n",
       "      <td>0.6805</td>\n",
       "      <td>10003</td>\n",
       "      <td>2\\n1</td>\n",
       "      <td>The author is skeptical of the safety and reli...</td>\n",
       "      <td>If Google maps can't keep up with road constru...</td>\n",
       "    </tr>\n",
       "    <tr>\n",
       "      <th>3</th>\n",
       "      <td>724227034</td>\n",
       "      <td>True</td>\n",
       "      <td>golden</td>\n",
       "      <td>240</td>\n",
       "      <td>NaN</td>\n",
       "      <td>2</td>\n",
       "      <td>0.8820</td>\n",
       "      <td>10004</td>\n",
       "      <td>2\\n1</td>\n",
       "      <td>The author is skeptical of the project's value.</td>\n",
       "      <td>Autonomous cars seem way overhyped given the t...</td>\n",
       "    </tr>\n",
       "    <tr>\n",
       "      <th>4</th>\n",
       "      <td>724227035</td>\n",
       "      <td>True</td>\n",
       "      <td>golden</td>\n",
       "      <td>240</td>\n",
       "      <td>NaN</td>\n",
       "      <td>3</td>\n",
       "      <td>1.0000</td>\n",
       "      <td>10005</td>\n",
       "      <td>3</td>\n",
       "      <td>Author is making an observation without expres...</td>\n",
       "      <td>Just saw Google self-driving car on I-34. It w...</td>\n",
       "    </tr>\n",
       "  </tbody>\n",
       "</table>\n",
       "</div>"
      ],
      "text/plain": [
       "    _unit_id  _golden _unit_state  _trusted_judgments _last_judgment_at  \\\n",
       "0  724227031     True      golden                 236               NaN   \n",
       "1  724227032     True      golden                 231               NaN   \n",
       "2  724227033     True      golden                 233               NaN   \n",
       "3  724227034     True      golden                 240               NaN   \n",
       "4  724227035     True      golden                 240               NaN   \n",
       "\n",
       "  sentiment  sentiment:confidence  our_id sentiment_gold  \\\n",
       "0         5                0.7579   10001           5\\n4   \n",
       "1         5                0.8775   10002           5\\n4   \n",
       "2         2                0.6805   10003           2\\n1   \n",
       "3         2                0.8820   10004           2\\n1   \n",
       "4         3                1.0000   10005              3   \n",
       "\n",
       "                               sentiment_gold_reason  \\\n",
       "0  Author is excited about the development of the...   \n",
       "1  Author is excited that driverless cars will be...   \n",
       "2  The author is skeptical of the safety and reli...   \n",
       "3    The author is skeptical of the project's value.   \n",
       "4  Author is making an observation without expres...   \n",
       "\n",
       "                                                text  \n",
       "0  Two places I'd invest all my money if I could:...  \n",
       "1  Awesome! Google driverless cars will help the ...  \n",
       "2  If Google maps can't keep up with road constru...  \n",
       "3  Autonomous cars seem way overhyped given the t...  \n",
       "4  Just saw Google self-driving car on I-34. It w...  "
      ]
     },
     "execution_count": 163,
     "metadata": {},
     "output_type": "execute_result"
    }
   ],
   "source": [
    "#displaying the head to understand the data\n",
    "df.head()"
   ]
  },
  {
   "cell_type": "code",
   "execution_count": 164,
   "id": "2095641f",
   "metadata": {},
   "outputs": [
    {
     "data": {
      "text/html": [
       "<div>\n",
       "<style scoped>\n",
       "    .dataframe tbody tr th:only-of-type {\n",
       "        vertical-align: middle;\n",
       "    }\n",
       "\n",
       "    .dataframe tbody tr th {\n",
       "        vertical-align: top;\n",
       "    }\n",
       "\n",
       "    .dataframe thead th {\n",
       "        text-align: right;\n",
       "    }\n",
       "</style>\n",
       "<table border=\"1\" class=\"dataframe\">\n",
       "  <thead>\n",
       "    <tr style=\"text-align: right;\">\n",
       "      <th></th>\n",
       "      <th>count</th>\n",
       "      <th>mean</th>\n",
       "      <th>std</th>\n",
       "      <th>min</th>\n",
       "      <th>25%</th>\n",
       "      <th>50%</th>\n",
       "      <th>75%</th>\n",
       "      <th>max</th>\n",
       "    </tr>\n",
       "  </thead>\n",
       "  <tbody>\n",
       "    <tr>\n",
       "      <th>_unit_id</th>\n",
       "      <td>7156.0</td>\n",
       "      <td>7.243474e+08</td>\n",
       "      <td>250674.176598</td>\n",
       "      <td>7.242270e+08</td>\n",
       "      <td>7.243229e+08</td>\n",
       "      <td>7.243247e+08</td>\n",
       "      <td>7.243265e+08</td>\n",
       "      <td>726942343.0</td>\n",
       "    </tr>\n",
       "    <tr>\n",
       "      <th>_trusted_judgments</th>\n",
       "      <td>7156.0</td>\n",
       "      <td>5.834405e+00</td>\n",
       "      <td>11.144930</td>\n",
       "      <td>1.000000e+00</td>\n",
       "      <td>3.000000e+00</td>\n",
       "      <td>4.000000e+00</td>\n",
       "      <td>8.000000e+00</td>\n",
       "      <td>241.0</td>\n",
       "    </tr>\n",
       "    <tr>\n",
       "      <th>sentiment:confidence</th>\n",
       "      <td>7156.0</td>\n",
       "      <td>7.746541e-01</td>\n",
       "      <td>0.205363</td>\n",
       "      <td>2.480000e-01</td>\n",
       "      <td>6.306000e-01</td>\n",
       "      <td>7.531000e-01</td>\n",
       "      <td>1.000000e+00</td>\n",
       "      <td>1.0</td>\n",
       "    </tr>\n",
       "    <tr>\n",
       "      <th>our_id</th>\n",
       "      <td>7156.0</td>\n",
       "      <td>3.609931e+03</td>\n",
       "      <td>2140.401611</td>\n",
       "      <td>1.000000e+00</td>\n",
       "      <td>1.789750e+03</td>\n",
       "      <td>3.578500e+03</td>\n",
       "      <td>5.367250e+03</td>\n",
       "      <td>10077.0</td>\n",
       "    </tr>\n",
       "  </tbody>\n",
       "</table>\n",
       "</div>"
      ],
      "text/plain": [
       "                       count          mean            std           min  \\\n",
       "_unit_id              7156.0  7.243474e+08  250674.176598  7.242270e+08   \n",
       "_trusted_judgments    7156.0  5.834405e+00      11.144930  1.000000e+00   \n",
       "sentiment:confidence  7156.0  7.746541e-01       0.205363  2.480000e-01   \n",
       "our_id                7156.0  3.609931e+03    2140.401611  1.000000e+00   \n",
       "\n",
       "                               25%           50%           75%          max  \n",
       "_unit_id              7.243229e+08  7.243247e+08  7.243265e+08  726942343.0  \n",
       "_trusted_judgments    3.000000e+00  4.000000e+00  8.000000e+00        241.0  \n",
       "sentiment:confidence  6.306000e-01  7.531000e-01  1.000000e+00          1.0  \n",
       "our_id                1.789750e+03  3.578500e+03  5.367250e+03      10077.0  "
      ]
     },
     "execution_count": 164,
     "metadata": {},
     "output_type": "execute_result"
    }
   ],
   "source": [
    "#Displaying the summary stats of the data frame\n",
    "df.describe().transpose()"
   ]
  },
  {
   "cell_type": "code",
   "execution_count": 166,
   "id": "321e3400",
   "metadata": {},
   "outputs": [
    {
     "data": {
      "text/plain": [
       "array(['5', '2', '3', 'not_relevant', '1', '4'], dtype=object)"
      ]
     },
     "execution_count": 166,
     "metadata": {},
     "output_type": "execute_result"
    }
   ],
   "source": [
    "#analysisng the unique values of sentiment column\n",
    "df['sentiment'].unique()"
   ]
  },
  {
   "cell_type": "code",
   "execution_count": 167,
   "id": "2230e847",
   "metadata": {},
   "outputs": [],
   "source": [
    "# Get the index of the rows where sentiment is \"not_relevant\"\n",
    "not_relevant_idx = df[df[\"sentiment\"] == \"not_relevant\"].index\n",
    "\n",
    "# Drop the rows where sentiment is \"not_relevant\"\n",
    "df = df.drop(index=not_relevant_idx)"
   ]
  },
  {
   "cell_type": "code",
   "execution_count": 168,
   "id": "10858c32",
   "metadata": {},
   "outputs": [
    {
     "data": {
      "text/plain": [
       "count    6943.000000\n",
       "mean        3.209852\n",
       "std         0.768440\n",
       "min         1.000000\n",
       "25%         3.000000\n",
       "50%         3.000000\n",
       "75%         4.000000\n",
       "max         5.000000\n",
       "Name: sentiment, dtype: float64"
      ]
     },
     "execution_count": 168,
     "metadata": {},
     "output_type": "execute_result"
    }
   ],
   "source": [
    "#Displaying summary stats of the 'sentiment' column\n",
    "df['sentiment'].astype(int).describe().transpose()"
   ]
  },
  {
   "cell_type": "code",
   "execution_count": 170,
   "id": "29922090",
   "metadata": {},
   "outputs": [
    {
     "data": {
      "text/plain": [
       "0    3.0\n",
       "Name: sentiment, dtype: float64"
      ]
     },
     "execution_count": 170,
     "metadata": {},
     "output_type": "execute_result"
    }
   ],
   "source": [
    "#Mode of the 'sentiment' column\n",
    "df['sentiment'].astype(float).mode()"
   ]
  },
  {
   "cell_type": "code",
   "execution_count": 171,
   "id": "4edc4cc9",
   "metadata": {},
   "outputs": [
    {
     "data": {
      "text/plain": [
       "3.0"
      ]
     },
     "execution_count": 171,
     "metadata": {},
     "output_type": "execute_result"
    }
   ],
   "source": [
    "#Median of the 'sentiment' column\n",
    "df['sentiment'].astype(float).median()"
   ]
  },
  {
   "cell_type": "code",
   "execution_count": 172,
   "id": "8998d419",
   "metadata": {},
   "outputs": [
    {
     "data": {
      "image/png": "[encoded data removed]",
      "text/plain": [
       "<Figure size 800x550 with 1 Axes>"
      ]
     },
     "metadata": {},
     "output_type": "display_data"
    }
   ],
   "source": [
    "#Plotting the bar plot\n",
    "# Count the number of occurrences of each sentiment value\n",
    "sentiment_counts = df[\"sentiment\"].value_counts().sort_index()\n",
    "\n",
    "# Create a bar plot of the sentiment counts\n",
    "sentiment_counts.plot.bar()\n",
    "\n",
    "plt.title(\"Sentiment Counts\")\n",
    "plt.xlabel(\"Sentiment\")\n",
    "\n",
    "# Show the plot\n",
    "plt.show()\n",
    "\n"
   ]
  },
  {
   "cell_type": "markdown",
   "id": "a397c052",
   "metadata": {},
   "source": [
    "From this plot we can see that the number of records for sentiment 3 are very high as compared to the other\n",
    "values and thus the values other than 3 will have lower training data leading to lower accuracy"
   ]
  },
  {
   "cell_type": "code",
   "execution_count": 195,
   "id": "e68c6660",
   "metadata": {},
   "outputs": [
    {
     "data": {
      "image/png": "[encoded data removed]",
      "text/plain": [
       "<Figure size 800x550 with 1 Axes>"
      ]
     },
     "metadata": {},
     "output_type": "display_data"
    }
   ],
   "source": [
    "#Pie chart of counts of sentiment values\n",
    "# Count the number of occurrences of each sentiment value\n",
    "sentiment_counts = df[\"sentiment\"].value_counts().sort_index()\n",
    "# Define pastel colors\n",
    "pastel_colors = ['#FFB6C1', '#87CEFA', '#98FB98', '#FFDAB9', '#B0E0E6']\n",
    "# Create a pie chart of the sentiment counts\n",
    "plt.pie(sentiment_counts, labels=sentiment_counts.index, autopct='%1.1f%%',colors=pastel_colors)\n",
    "plt.title(\"Percentage of Sentiment Counts\")\n",
    "# Show the plot\n",
    "plt.show()"
   ]
  },
  {
   "cell_type": "markdown",
   "id": "8a5ac947",
   "metadata": {},
   "source": [
    "Most of the data is concentrated with sentiment 3"
   ]
  },
  {
   "cell_type": "code",
   "execution_count": 199,
   "id": "6b7082bd",
   "metadata": {},
   "outputs": [
    {
     "data": {
      "image/png": "[encoded data removed]",
      "text/plain": [
       "<Figure size 800x550 with 1 Axes>"
      ]
     },
     "metadata": {},
     "output_type": "display_data"
    }
   ],
   "source": [
    "import warnings\n",
    "warnings.filterwarnings('ignore')\n",
    "# Create a distribution plot of the trusted judgements using Seaborn\n",
    "sns.distplot(df[\"_trusted_judgments\"], bins=20)\n",
    "plt.title(\"Trusted Judgements Distribution\")\n",
    "plt.xlabel(\"Trusted Judgements\")\n",
    "plt.ylabel(\"Count\")\n",
    "\n",
    "# Show the plot\n",
    "plt.show()"
   ]
  },
  {
   "cell_type": "code",
   "execution_count": 200,
   "id": "b0a141c1",
   "metadata": {},
   "outputs": [
    {
     "data": {
      "image/png": "[encoded data removed]",
      "text/plain": [
       "<Figure size 800x550 with 1 Axes>"
      ]
     },
     "metadata": {},
     "output_type": "display_data"
    }
   ],
   "source": [
    "import warnings\n",
    "warnings.filterwarnings('ignore')\n",
    "# Create a distribution plot of the trusted judgements using Seaborn\n",
    "sns.distplot(df[\"sentiment:confidence\"], bins=20)\n",
    "\n",
    "plt.title(\"Sentiments confidence Distribution\")\n",
    "plt.xlabel(\"Sentiment Confidence\")\n",
    "plt.ylabel(\"Count\")\n",
    "\n",
    "# Show the plot\n",
    "plt.show()"
   ]
  },
  {
   "cell_type": "code",
   "execution_count": 176,
   "id": "e8a8fab7",
   "metadata": {},
   "outputs": [
    {
     "name": "stdout",
     "output_type": "stream",
     "text": [
      "['i', 'me', 'my', 'myself', 'we', 'our', 'ours', 'ourselves', 'you', \"you're\", \"you've\", \"you'll\", \"you'd\", 'your', 'yours', 'yourself', 'yourselves', 'he', 'him', 'his', 'himself', 'she', \"she's\", 'her', 'hers', 'herself', 'it', \"it's\", 'its', 'itself', 'they', 'them', 'their', 'theirs', 'themselves', 'what', 'which', 'who', 'whom', 'this', 'that', \"that'll\", 'these', 'those', 'am', 'is', 'are', 'was', 'were', 'be', 'been', 'being', 'have', 'has', 'had', 'having', 'do', 'does', 'did', 'doing', 'a', 'an', 'the', 'and', 'but', 'if', 'or', 'because', 'as', 'until', 'while', 'of', 'at', 'by', 'for', 'with', 'about', 'against', 'between', 'into', 'through', 'during', 'before', 'after', 'above', 'below', 'to', 'from', 'up', 'down', 'in', 'out', 'on', 'off', 'over', 'under', 'again', 'further', 'then', 'once', 'here', 'there', 'when', 'where', 'why', 'how', 'all', 'any', 'both', 'each', 'few', 'more', 'most', 'other', 'some', 'such', 'no', 'nor', 'not', 'only', 'own', 'same', 'so', 'than', 'too', 'very', 's', 't', 'can', 'will', 'just', 'don', \"don't\", 'should', \"should've\", 'now', 'd', 'll', 'm', 'o', 're', 've', 'y', 'ain', 'aren', \"aren't\", 'couldn', \"couldn't\", 'didn', \"didn't\", 'doesn', \"doesn't\", 'hadn', \"hadn't\", 'hasn', \"hasn't\", 'haven', \"haven't\", 'isn', \"isn't\", 'ma', 'mightn', \"mightn't\", 'mustn', \"mustn't\", 'needn', \"needn't\", 'shan', \"shan't\", 'shouldn', \"shouldn't\", 'wasn', \"wasn't\", 'weren', \"weren't\", 'won', \"won't\", 'wouldn', \"wouldn't\"]\n"
     ]
    }
   ],
   "source": [
    "print(stopwords.words('english'))"
   ]
  },
  {
   "cell_type": "code",
   "execution_count": 201,
   "id": "2921b7e9",
   "metadata": {},
   "outputs": [
    {
     "name": "stderr",
     "output_type": "stream",
     "text": [
      "[nltk_data] Downloading package punkt to\n",
      "[nltk_data]     C:\\Users\\rutas\\AppData\\Roaming\\nltk_data...\n",
      "[nltk_data]   Package punkt is already up-to-date!\n",
      "[nltk_data] Downloading package stopwords to\n",
      "[nltk_data]     C:\\Users\\rutas\\AppData\\Roaming\\nltk_data...\n",
      "[nltk_data]   Package stopwords is already up-to-date!\n",
      "[nltk_data] Downloading package wordnet to\n",
      "[nltk_data]     C:\\Users\\rutas\\AppData\\Roaming\\nltk_data...\n",
      "[nltk_data]   Package wordnet is already up-to-date!\n",
      "[nltk_data] Downloading package omw-1.4 to\n",
      "[nltk_data]     C:\\Users\\rutas\\AppData\\Roaming\\nltk_data...\n",
      "[nltk_data]   Package omw-1.4 is already up-to-date!\n"
     ]
    },
    {
     "data": {
      "text/plain": [
       "True"
      ]
     },
     "execution_count": 201,
     "metadata": {},
     "output_type": "execute_result"
    }
   ],
   "source": [
    "nltk.download('punkt')\n",
    "nltk.download('stopwords')\n",
    "nltk.download('wordnet')\n",
    "nltk.download('omw-1.4')"
   ]
  },
  {
   "cell_type": "code",
   "execution_count": 178,
   "id": "d8c47e57",
   "metadata": {},
   "outputs": [],
   "source": [
    "#Tokenization and Lemmatization\n",
    "# Initialize an empty list to store the filtered tokens for each tweet\n",
    "filtered_tokens_list = []\n",
    "\n",
    "# Iterate through each tweet in the 'text' column\n",
    "for tweet in df['text']:\n",
    "    # Check if tweet is a string or bytes-like object\n",
    "    if isinstance(tweet, (str, bytes)):\n",
    "        # Define a regex pattern to match punctuation and hashtags\n",
    "        pattern = r'[^\\w\\s]|#'\n",
    "        # Apply the regex pattern to remove punctuation and hashtags from the tweet\n",
    "        tweet = re.sub(pattern, '', tweet)\n",
    "        # Tokenize the tweet\n",
    "        tweet = tweet.lower()\n",
    "        tokens = nltk.word_tokenize(tweet)\n",
    "        filtered_tokens = []\n",
    "        # Remove the stopwords\n",
    "        for token in tokens:\n",
    "            if token not in stop_words:\n",
    "                filtered_tokens.append(token)\n",
    "        lemmatized_tokens = []\n",
    "        for token in filtered_tokens:\n",
    "            lemmatized_tokens.append(lemmatizer.lemmatize(token))\n",
    "        # Exclude the frequent words and phrases and also words that are irrelevant\n",
    "        exclude_words = ['self-driving', 'car', 'cars', 'driving', 'autonomous', 'vehicle', 'vehicles', 'driverless', 'selfdriving',\n",
    "                         'self', 'could', 'would', 'rt', 'need', 'self', 'get', 'like', 'amp', 'saw', 'via', 'see', 'im', 'make', 'want', 'think',\n",
    "                         'u', 'take', 'say', 'cant', 'one']\n",
    "        filtered_tokens = [token for token in lemmatized_tokens if token not in exclude_words]\n",
    "        filtered_tokens_list.append(filtered_tokens)\n",
    "    else:\n",
    "        # If tweet is not a string or bytes-like object, append an empty list to the filtered_tokens_list\n",
    "        filtered_tokens_list.append([])\n",
    "\n",
    "# Add a new column 'filtered_tokens' to the dataframe\n",
    "df['filtered_tokens'] = filtered_tokens_list\n"
   ]
  },
  {
   "cell_type": "code",
   "execution_count": 179,
   "id": "c862b398",
   "metadata": {},
   "outputs": [
    {
     "data": {
      "text/plain": [
       "0           [two, place, id, invest, money, 3d, printing]\n",
       "1       [awesome, google, help, blind, travel, often, ...\n",
       "2       [google, map, keep, road, construction, suppos...\n",
       "3       [seem, way, overhyped, given, technology, chal...\n",
       "4                     [google, i34, painted, green, blue]\n",
       "                              ...                        \n",
       "7141            [florida, state, allows, testing, sayfie]\n",
       "7142    [many, state, still, considering, allowing, te...\n",
       "7143    [heading, tech, conference, focus, transportat...\n",
       "7144                [fully, many, automation, technology]\n",
       "7145              [new, study, commissioned, study, cost]\n",
       "Name: filtered_tokens, Length: 6943, dtype: object"
      ]
     },
     "execution_count": 179,
     "metadata": {},
     "output_type": "execute_result"
    }
   ],
   "source": [
    "#Printing the column 'filtered_columns'\n",
    "df['filtered_tokens']"
   ]
  },
  {
   "cell_type": "code",
   "execution_count": 180,
   "id": "ee7798a5",
   "metadata": {},
   "outputs": [
    {
     "data": {
      "text/html": [
       "<div>\n",
       "<style scoped>\n",
       "    .dataframe tbody tr th:only-of-type {\n",
       "        vertical-align: middle;\n",
       "    }\n",
       "\n",
       "    .dataframe tbody tr th {\n",
       "        vertical-align: top;\n",
       "    }\n",
       "\n",
       "    .dataframe thead th {\n",
       "        text-align: right;\n",
       "    }\n",
       "</style>\n",
       "<table border=\"1\" class=\"dataframe\">\n",
       "  <thead>\n",
       "    <tr style=\"text-align: right;\">\n",
       "      <th></th>\n",
       "      <th>_unit_id</th>\n",
       "      <th>_golden</th>\n",
       "      <th>_unit_state</th>\n",
       "      <th>_trusted_judgments</th>\n",
       "      <th>_last_judgment_at</th>\n",
       "      <th>sentiment</th>\n",
       "      <th>sentiment:confidence</th>\n",
       "      <th>our_id</th>\n",
       "      <th>sentiment_gold</th>\n",
       "      <th>sentiment_gold_reason</th>\n",
       "      <th>text</th>\n",
       "      <th>preprocessed_text</th>\n",
       "      <th>filtered_tokens</th>\n",
       "    </tr>\n",
       "  </thead>\n",
       "  <tbody>\n",
       "    <tr>\n",
       "      <th>0</th>\n",
       "      <td>724227031</td>\n",
       "      <td>True</td>\n",
       "      <td>golden</td>\n",
       "      <td>236</td>\n",
       "      <td>NaN</td>\n",
       "      <td>5</td>\n",
       "      <td>0.7579</td>\n",
       "      <td>10001</td>\n",
       "      <td>5\\n4</td>\n",
       "      <td>Author is excited about the development of the...</td>\n",
       "      <td>Two places I'd invest all my money if I could:...</td>\n",
       "      <td>two place invest money could 3d print car</td>\n",
       "      <td>[two, place, id, invest, money, 3d, printing]</td>\n",
       "    </tr>\n",
       "    <tr>\n",
       "      <th>1</th>\n",
       "      <td>724227032</td>\n",
       "      <td>True</td>\n",
       "      <td>golden</td>\n",
       "      <td>231</td>\n",
       "      <td>NaN</td>\n",
       "      <td>5</td>\n",
       "      <td>0.8775</td>\n",
       "      <td>10002</td>\n",
       "      <td>5\\n4</td>\n",
       "      <td>Author is excited that driverless cars will be...</td>\n",
       "      <td>Awesome! Google driverless cars will help the ...</td>\n",
       "      <td>awesom googl driverless car help blind travel ...</td>\n",
       "      <td>[awesome, google, help, blind, travel, often, ...</td>\n",
       "    </tr>\n",
       "    <tr>\n",
       "      <th>2</th>\n",
       "      <td>724227033</td>\n",
       "      <td>True</td>\n",
       "      <td>golden</td>\n",
       "      <td>233</td>\n",
       "      <td>NaN</td>\n",
       "      <td>2</td>\n",
       "      <td>0.6805</td>\n",
       "      <td>10003</td>\n",
       "      <td>2\\n1</td>\n",
       "      <td>The author is skeptical of the safety and reli...</td>\n",
       "      <td>If Google maps can't keep up with road constru...</td>\n",
       "      <td>googl map ca keep road construct suppos trust ...</td>\n",
       "      <td>[google, map, keep, road, construction, suppos...</td>\n",
       "    </tr>\n",
       "    <tr>\n",
       "      <th>3</th>\n",
       "      <td>724227034</td>\n",
       "      <td>True</td>\n",
       "      <td>golden</td>\n",
       "      <td>240</td>\n",
       "      <td>NaN</td>\n",
       "      <td>2</td>\n",
       "      <td>0.8820</td>\n",
       "      <td>10004</td>\n",
       "      <td>2\\n1</td>\n",
       "      <td>The author is skeptical of the project's value.</td>\n",
       "      <td>Autonomous cars seem way overhyped given the t...</td>\n",
       "      <td>autonom car seem way overhyp given technolog c...</td>\n",
       "      <td>[seem, way, overhyped, given, technology, chal...</td>\n",
       "    </tr>\n",
       "    <tr>\n",
       "      <th>4</th>\n",
       "      <td>724227035</td>\n",
       "      <td>True</td>\n",
       "      <td>golden</td>\n",
       "      <td>240</td>\n",
       "      <td>NaN</td>\n",
       "      <td>3</td>\n",
       "      <td>1.0000</td>\n",
       "      <td>10005</td>\n",
       "      <td>3</td>\n",
       "      <td>Author is making an observation without expres...</td>\n",
       "      <td>Just saw Google self-driving car on I-34. It w...</td>\n",
       "      <td>saw googl car paint green blue</td>\n",
       "      <td>[google, i34, painted, green, blue]</td>\n",
       "    </tr>\n",
       "  </tbody>\n",
       "</table>\n",
       "</div>"
      ],
      "text/plain": [
       "    _unit_id  _golden _unit_state  _trusted_judgments _last_judgment_at  \\\n",
       "0  724227031     True      golden                 236               NaN   \n",
       "1  724227032     True      golden                 231               NaN   \n",
       "2  724227033     True      golden                 233               NaN   \n",
       "3  724227034     True      golden                 240               NaN   \n",
       "4  724227035     True      golden                 240               NaN   \n",
       "\n",
       "  sentiment  sentiment:confidence  our_id sentiment_gold  \\\n",
       "0         5                0.7579   10001           5\\n4   \n",
       "1         5                0.8775   10002           5\\n4   \n",
       "2         2                0.6805   10003           2\\n1   \n",
       "3         2                0.8820   10004           2\\n1   \n",
       "4         3                1.0000   10005              3   \n",
       "\n",
       "                               sentiment_gold_reason  \\\n",
       "0  Author is excited about the development of the...   \n",
       "1  Author is excited that driverless cars will be...   \n",
       "2  The author is skeptical of the safety and reli...   \n",
       "3    The author is skeptical of the project's value.   \n",
       "4  Author is making an observation without expres...   \n",
       "\n",
       "                                                text  \\\n",
       "0  Two places I'd invest all my money if I could:...   \n",
       "1  Awesome! Google driverless cars will help the ...   \n",
       "2  If Google maps can't keep up with road constru...   \n",
       "3  Autonomous cars seem way overhyped given the t...   \n",
       "4  Just saw Google self-driving car on I-34. It w...   \n",
       "\n",
       "                                   preprocessed_text  \\\n",
       "0          two place invest money could 3d print car   \n",
       "1  awesom googl driverless car help blind travel ...   \n",
       "2  googl map ca keep road construct suppos trust ...   \n",
       "3  autonom car seem way overhyp given technolog c...   \n",
       "4                     saw googl car paint green blue   \n",
       "\n",
       "                                     filtered_tokens  \n",
       "0      [two, place, id, invest, money, 3d, printing]  \n",
       "1  [awesome, google, help, blind, travel, often, ...  \n",
       "2  [google, map, keep, road, construction, suppos...  \n",
       "3  [seem, way, overhyped, given, technology, chal...  \n",
       "4                [google, i34, painted, green, blue]  "
      ]
     },
     "execution_count": 180,
     "metadata": {},
     "output_type": "execute_result"
    }
   ],
   "source": [
    "#Printing the head to display the data\n",
    "df.head()"
   ]
  },
  {
   "cell_type": "code",
   "execution_count": 181,
   "id": "e39253ca",
   "metadata": {},
   "outputs": [],
   "source": [
    "#concatenating all lists into a single list\n",
    "flat_list = []\n",
    "for sublist in df['filtered_tokens']:\n",
    "    for item in sublist:\n",
    "        flat_list.append(item)"
   ]
  },
  {
   "cell_type": "code",
   "execution_count": 182,
   "id": "35abe148",
   "metadata": {},
   "outputs": [
    {
     "name": "stdout",
     "output_type": "stream",
     "text": [
      "Top 20 frequent tokens:\n",
      "google: 3080\n",
      "future: 324\n",
      "drive: 289\n",
      "road: 259\n",
      "driver: 248\n",
      "uber: 246\n",
      "new: 232\n",
      "california: 201\n",
      "first: 187\n",
      "street: 173\n",
      "wheel: 169\n",
      "look: 156\n",
      "today: 155\n",
      "people: 155\n",
      "technology: 152\n",
      "year: 152\n",
      "go: 151\n",
      "city: 144\n",
      "time: 143\n",
      "way: 141\n"
     ]
    }
   ],
   "source": [
    "#Calculating the top 20 frequent words\n",
    "fdist = nltk.FreqDist(flat_list)\n",
    "\n",
    "# Show the top 20 frequent tokens\n",
    "print(\"Top 20 frequent tokens:\")\n",
    "for token, count in fdist.most_common(20):\n",
    "    print(f\"{token}: {count}\")"
   ]
  },
  {
   "cell_type": "code",
   "execution_count": 186,
   "id": "d3f386a6",
   "metadata": {
    "scrolled": true
   },
   "outputs": [
    {
     "name": "stdout",
     "output_type": "stream",
     "text": [
      "Accuracy: 0.652267818574514\n",
      "\n",
      "\n",
      "Top words for sentiments\n",
      "Top words for sentiment 1: ['wtf', 'hell', 'fuck', 'never', 'crash', 'part', 'dont', 'cause', 'terrifying', 'die']\n",
      "Top words for sentiment 2: ['scare', 'creepy', 'doesnt', 'unemployment', 'flaw', 'keep', 'ridiculous', 'government', 'donìââãt', 'creep']\n",
      "Top words for sentiment 3: ['wonder', 'uk', 'inside', 'corner', 'minute', 'uber', 'music', 'eventually', 'automated', 'canada']\n",
      "Top words for sentiment 4: ['cool', 'codecon', 'hurry', 'nice', 'kick', 'wish', 'best', 'deliver', 'thanks', 'check']\n",
      "Top words for sentiment 5: ['awesome', 'amazing', 'excited', 'wait', 'incredible', 'love', 'cool', 'genius', 'exciting', 'enough']\n"
     ]
    }
   ],
   "source": [
    "#Logistic Regression for prediction\n",
    "import warnings\n",
    "warnings.filterwarnings('ignore')\n",
    "from sklearn.feature_extraction.text import CountVectorizer\n",
    "from sklearn.linear_model import LogisticRegression\n",
    "from sklearn.model_selection import train_test_split\n",
    "from sklearn.metrics import accuracy_score\n",
    "from sklearn.metrics import classification_report\n",
    "\n",
    "\n",
    "# Define the features and target variable\n",
    "X = df['filtered_tokens'].apply(lambda x: ' '.join(x))\n",
    "y = df['sentiment']\n",
    "\n",
    "# Split the data into training and testing sets\n",
    "X_train, X_test, y_train, y_test = train_test_split(X, y, test_size=0.2, random_state=42)\n",
    "\n",
    "# Convert the text data into a matrix of token counts\n",
    "vectorizer = CountVectorizer()\n",
    "X_train_vect = vectorizer.fit_transform(X_train)\n",
    "X_test_vect = vectorizer.transform(X_test)\n",
    "\n",
    "# Train the logistic regression model\n",
    "lr = LogisticRegression()\n",
    "lr.fit(X_train_vect, y_train)\n",
    "\n",
    "# Predict the sentiment scores for the test set\n",
    "y_pred = lr.predict(X_test_vect)\n",
    "\n",
    "#printing the accuracy of the model\n",
    "accuracy = accuracy_score(y_test, y_pred)\n",
    "print(f\"Accuracy: {accuracy}\")\n",
    "print('\\n')\n",
    "\n",
    "#Displaying the top 10 words for each sentiment\n",
    "print('Top words for sentiments')\n",
    "for i in range(1, 6):\n",
    "    indices = lr.coef_[i-1].argsort()[::-1][:10]\n",
    "    top_words = [vectorizer.get_feature_names()[ind] for ind in indices]\n",
    "    print(f\"Top words for sentiment {i}: {top_words}\")"
   ]
  },
  {
   "cell_type": "code",
   "execution_count": 145,
   "id": "b0b8d92c",
   "metadata": {},
   "outputs": [
    {
     "data": {
      "image/png": "[encoded data removed]",
      "text/plain": [
       "<Figure size 800x550 with 2 Axes>"
      ]
     },
     "metadata": {},
     "output_type": "display_data"
    }
   ],
   "source": [
    "#Displaying the confusion matrix for logistic regression\n",
    "from sklearn.metrics import confusion_matrix\n",
    "\n",
    "# Generate confusion matrix\n",
    "cm = confusion_matrix(y_test, y_pred)\n",
    "\n",
    "# Plot confusion matrix\n",
    "sns.heatmap(cm, annot=True, cmap='Blues', fmt='g', xticklabels=[1,2,3,4,5], yticklabels=[1,2,3,4,5])\n",
    "plt.xlabel('Predicted')\n",
    "plt.ylabel('Actual')\n",
    "plt.title('Confusion Matrix')\n",
    "plt.show()\n"
   ]
  },
  {
   "cell_type": "code",
   "execution_count": 188,
   "id": "4085c9d7",
   "metadata": {},
   "outputs": [
    {
     "name": "stdout",
     "output_type": "stream",
     "text": [
      "Classification Report\n",
      "              precision    recall  f1-score   support\n",
      "\n",
      "           1       0.00      0.00      0.00        22\n",
      "           2       0.33      0.16      0.21       122\n",
      "           3       0.72      0.90      0.80       869\n",
      "           4       0.43      0.30      0.35       288\n",
      "           5       0.48      0.16      0.24        88\n",
      "\n",
      "    accuracy                           0.65      1389\n",
      "   macro avg       0.39      0.30      0.32      1389\n",
      "weighted avg       0.60      0.65      0.61      1389\n",
      "\n"
     ]
    }
   ],
   "source": [
    "# Generate the classification report\n",
    "print('Classification Report')\n",
    "print(classification_report(y_test, y_pred))\n"
   ]
  },
  {
   "cell_type": "markdown",
   "id": "65647bf6",
   "metadata": {},
   "source": [
    "The model's ability to correctly identify instances of different ratings varies significantly. It fails to identify instances of rating 1, as indicated by its precision, recall, and F1-score, which are all 0.0. \n",
    "For rating 2, the model's performance is poor, with a low precision of 0.33, a low recall of 0.16, and a low F1-score of 0.21. However, for rating 3, the model performs well, with a high precision of 0.72, a high recall of 0.90, and a high F1-score of 0.80. \n",
    "The model's performance for rating 4 is moderate, but not great, with a precision of 0.43, a recall of 0.30, and an F1-score of 0.35. \n",
    "For rating 5, the model's performance is also not great, with a precision of 0.48, a recall of 0.16, and an F1-score of 0.24. Overall, the model's performance varies significantly across different ratings, with its strongest performance for rating 3, while its performance for the other ratings is not very consistent. \n",
    "The accuracy of the model is 0.65. \n",
    "A better and evenly distributed dataset across all sentiments might help with improving accuracy of the model"
   ]
  },
  {
   "cell_type": "code",
   "execution_count": null,
   "id": "97d61638",
   "metadata": {},
   "outputs": [],
   "source": []
  }
 ],
 "metadata": {
  "kernelspec": {
   "display_name": "Python 3 (ipykernel)",
   "language": "python",
   "name": "python3"
  },
  "language_info": {
   "codemirror_mode": {
    "name": "ipython",
    "version": 3
   },
   "file_extension": ".py",
   "mimetype": "text/x-python",
   "name": "python",
   "nbconvert_exporter": "python",
   "pygments_lexer": "ipython3",
   "version": "3.9.13"
  }
 },
 "nbformat": 4,
 "nbformat_minor": 5
}
